{
 "cells": [
  {
   "cell_type": "code",
   "execution_count": 2,
   "metadata": {},
   "outputs": [],
   "source": [
    "from langchain.llms import Ollama\n",
    "from langchain.callbacks.manager import CallbackManager\n",
    "from langchain.callbacks.streaming_stdout import StreamingStdOutCallbackHandler\n",
    "\n",
    "llm = Ollama(\n",
    "    base_url=\"http://localhost:11434\", # localhost\n",
    "    model=\"magicoder\", \n",
    "    # num_thread=6,\n",
    "    temperature=0.5, # .5 (default) ... \n",
    "    top_k=40, # 40 (default)\n",
    "    top_p=0.9, # 0.9 (default) ... 0-1 range\n",
    "    callback_manager=CallbackManager([StreamingStdOutCallbackHandler()]),\n",
    ")\n"
   ]
  },
  {
   "cell_type": "code",
   "execution_count": 4,
   "metadata": {},
   "outputs": [
    {
     "name": "stdout",
     "output_type": "stream",
     "text": [
      " You can use the `psycopg2` library to connect with a PostgreSQL database and then read data into a pandas DataFrame. Here's an example:\n",
      "\n",
      "```python\n",
      "import psycopg2\n",
      "import pandas as pd\n",
      "\n",
      "# Establish a connection to your postgres DB\n",
      "conn = psycopg2.connect(dbname='your_database', user='username', password='password', host='localhost')\n",
      "\n",
      "# Create a cursor object\n",
      "cur = conn.cursor()\n",
      "\n",
      "# Execute the query\n",
      "cur.execute(\"SELECT * FROM your_table\")\n",
      "\n",
      "# Fetch all rows from the query\n",
      "rows = cur.fetchall()\n",
      "\n",
      "# Get column names\n",
      "colnames = [desc[0] for desc in cur.description]\n",
      "\n",
      "# Create a pandas DataFrame\n",
      "df = pd.DataFrame(rows, columns=colnames)\n",
      "\n",
      "# Close cursor and connection\n",
      "cur.close()\n",
      "conn.close()\n",
      "```\n",
      "\n",
      "Replace `'your_database'`, `'username'`, `'password'`, and `'localhost'` with your actual database name, username, password, and host respectively. Also replace `'SELECT * FROM your_table'` with the SQL query you want to execute.\n",
      "\n",
      "Please note that this code assumes that all columns in your table are of a type that can be converted into pandas DataFrame. If there's any problem with column types or if the table is too large, you might need to fetch rows one by one and append them to the DataFrame."
     ]
    },
    {
     "data": {
      "text/plain": [
       "' You can use the `psycopg2` library to connect with a PostgreSQL database and then read data into a pandas DataFrame. Here\\'s an example:\\n\\n```python\\nimport psycopg2\\nimport pandas as pd\\n\\n# Establish a connection to your postgres DB\\nconn = psycopg2.connect(dbname=\\'your_database\\', user=\\'username\\', password=\\'password\\', host=\\'localhost\\')\\n\\n# Create a cursor object\\ncur = conn.cursor()\\n\\n# Execute the query\\ncur.execute(\"SELECT * FROM your_table\")\\n\\n# Fetch all rows from the query\\nrows = cur.fetchall()\\n\\n# Get column names\\ncolnames = [desc[0] for desc in cur.description]\\n\\n# Create a pandas DataFrame\\ndf = pd.DataFrame(rows, columns=colnames)\\n\\n# Close cursor and connection\\ncur.close()\\nconn.close()\\n```\\n\\nReplace `\\'your_database\\'`, `\\'username\\'`, `\\'password\\'`, and `\\'localhost\\'` with your actual database name, username, password, and host respectively. Also replace `\\'SELECT * FROM your_table\\'` with the SQL query you want to execute.\\n\\nPlease note that this code assumes that all columns in your table are of a type that can be converted into pandas DataFrame. If there\\'s any problem with column types or if the table is too large, you might need to fetch rows one by one and append them to the DataFrame.'"
      ]
     },
     "execution_count": 4,
     "metadata": {},
     "output_type": "execute_result"
    }
   ],
   "source": [
    "llm(\"\"\"help me with the following in python:\n",
    "  \n",
    "show me how to connect to a postgres database and then read a table into a pandas dataframe\n",
    "    \"\"\")"
   ]
  }
 ],
 "metadata": {
  "kernelspec": {
   "display_name": "Python 3",
   "language": "python",
   "name": "python3"
  },
  "language_info": {
   "codemirror_mode": {
    "name": "ipython",
    "version": 3
   },
   "file_extension": ".py",
   "mimetype": "text/x-python",
   "name": "python",
   "nbconvert_exporter": "python",
   "pygments_lexer": "ipython3",
   "version": "3.11.5"
  }
 },
 "nbformat": 4,
 "nbformat_minor": 2
}
