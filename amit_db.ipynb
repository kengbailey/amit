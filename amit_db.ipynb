{
 "cells": [
  {
   "cell_type": "markdown",
   "metadata": {},
   "source": [
    "## Amit DB\n",
    "\n",
    "### Tables\n",
    "\n",
    "```sql\n",
    "CREATE TABLE IF NOT EXISTS llm_analysis (\n",
    "    id INTEGER PRIMARY KEY AUTOINCREMENT,\n",
    "    prompt_text TEXT NOT NULL,\n",
    "    llm_params TEXT NOT NULL,\n",
    "    output_text TEXT NOT NULL,\n",
    "    output_stats TEXT,\n",
    "    context TEXT,\n",
    "    date_created DATETIME DEFAULT CURRENT_TIMESTAMP\n",
    ");\n",
    "\n",
    "\n",
    "CREATE TABLE IF NOT EXISTS video_transcription (\n",
    "    id INTEGER PRIMARY KEY AUTOINCREMENT,\n",
    "    filename TEXT NOT NULL,\n",
    "    transcription TEXT NOT NULL,\n",
    "    url TEXT NOT NULL,\n",
    "    context TEXT,\n",
    "    date_created DATETIME DEFAULT CURRENT_TIMESTAMP\n",
    ");\n",
    "\n",
    "```"
   ]
  },
  {
   "cell_type": "code",
   "execution_count": 2,
   "metadata": {},
   "outputs": [],
   "source": [
    "import sqlite3\n",
    "import pandas as pd\n",
    "\n",
    "# Connect to the SQLite database file on disk\n",
    "conn = sqlite3.connect('data/amit.db')  \n",
    "\n",
    "# Read a specific table into a DataFrame\n",
    "df = pd.read_sql_query(\"SELECT * FROM video_transcription\", conn)  # replace 'my_table' with your actual table name"
   ]
  },
  {
   "cell_type": "code",
   "execution_count": 3,
   "metadata": {},
   "outputs": [
    {
     "data": {
      "text/html": [
       "<div>\n",
       "<style scoped>\n",
       "    .dataframe tbody tr th:only-of-type {\n",
       "        vertical-align: middle;\n",
       "    }\n",
       "\n",
       "    .dataframe tbody tr th {\n",
       "        vertical-align: top;\n",
       "    }\n",
       "\n",
       "    .dataframe thead th {\n",
       "        text-align: right;\n",
       "    }\n",
       "</style>\n",
       "<table border=\"1\" class=\"dataframe\">\n",
       "  <thead>\n",
       "    <tr style=\"text-align: right;\">\n",
       "      <th></th>\n",
       "      <th>id</th>\n",
       "      <th>filename</th>\n",
       "      <th>transcription</th>\n",
       "      <th>url</th>\n",
       "      <th>context</th>\n",
       "      <th>date_created</th>\n",
       "    </tr>\n",
       "  </thead>\n",
       "  <tbody>\n",
       "    <tr>\n",
       "      <th>0</th>\n",
       "      <td>1</td>\n",
       "      <td>data/wheeling_options_001_010324.m4a</td>\n",
       "      <td>Hello ladies and gentlemen welcome to the fir...</td>\n",
       "      <td>https://www.youtube.com/watch?v=5AU2beqDoDY</td>\n",
       "      <td>None</td>\n",
       "      <td>2024-01-04 08:14:40</td>\n",
       "    </tr>\n",
       "  </tbody>\n",
       "</table>\n",
       "</div>"
      ],
      "text/plain": [
       "   id                              filename  \\\n",
       "0   1  data/wheeling_options_001_010324.m4a   \n",
       "\n",
       "                                       transcription  \\\n",
       "0   Hello ladies and gentlemen welcome to the fir...   \n",
       "\n",
       "                                           url context         date_created  \n",
       "0  https://www.youtube.com/watch?v=5AU2beqDoDY    None  2024-01-04 08:14:40  "
      ]
     },
     "execution_count": 3,
     "metadata": {},
     "output_type": "execute_result"
    }
   ],
   "source": [
    "df.head()"
   ]
  }
 ],
 "metadata": {
  "kernelspec": {
   "display_name": "Python 3",
   "language": "python",
   "name": "python3"
  },
  "language_info": {
   "codemirror_mode": {
    "name": "ipython",
    "version": 3
   },
   "file_extension": ".py",
   "mimetype": "text/x-python",
   "name": "python",
   "nbconvert_exporter": "python",
   "pygments_lexer": "ipython3",
   "version": "3.11.5"
  }
 },
 "nbformat": 4,
 "nbformat_minor": 2
}
